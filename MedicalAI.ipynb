{
 "cells": [
  {
   "cell_type": "code",
   "execution_count": null,
   "id": "20e7a7c5-c5ff-4634-bb49-dcdd98fade75",
   "metadata": {
    "tags": []
   },
   "outputs": [],
   "source": [
    "!pip install -q kaggle"
   ]
  },
  {
   "cell_type": "code",
   "execution_count": null,
   "id": "6b6defbd-9df5-4c58-83bf-75c32d0911ba",
   "metadata": {
    "tags": []
   },
   "outputs": [],
   "source": [
    "!mkdir ~/.kaggle"
   ]
  },
  {
   "cell_type": "code",
   "execution_count": null,
   "id": "034be460-6191-4343-99e5-eb2e847a78fd",
   "metadata": {
    "tags": []
   },
   "outputs": [],
   "source": [
    "!touch ~/.kaggle/kaggle.json"
   ]
  },
  {
   "cell_type": "code",
   "execution_count": null,
   "id": "e5648a2f-58fa-46eb-a052-723e6564ebf3",
   "metadata": {
    "tags": []
   },
   "outputs": [],
   "source": [
    "api_token = {\"username\":\"\", \"key\":\"\"}"
   ]
  },
  {
   "cell_type": "code",
   "execution_count": null,
   "id": "6d62a376-8655-4191-8679-8ddeef26c00f",
   "metadata": {
    "tags": []
   },
   "outputs": [],
   "source": [
    "import json\n",
    "\n",
    "with open('/root/.kaggle/kaggle.json','w') as file:\n",
    "  json.dump(api_token,file)"
   ]
  },
  {
   "cell_type": "code",
   "execution_count": null,
   "id": "de2dd06c-6e09-438a-8160-0a1b97544322",
   "metadata": {
    "tags": []
   },
   "outputs": [],
   "source": [
    "!chmod 600 ~/.kaggle/kaggle.json"
   ]
  },
  {
   "cell_type": "code",
   "execution_count": null,
   "id": "7d3a0183-2b7b-4ad8-8888-2ab0b8d49cd7",
   "metadata": {
    "tags": []
   },
   "outputs": [],
   "source": [
    "!kaggle datasets download -d paultimothymooney/chest-xray-pneumonia --force"
   ]
  },
  {
   "cell_type": "code",
   "execution_count": null,
   "id": "a9fc5f00-c27e-4b81-b777-dbd480194e3b",
   "metadata": {
    "tags": []
   },
   "outputs": [],
   "source": [
    "import zipfile\n",
    "\n",
    "with zipfile.ZipFile('./chest-xray-pneumonia.zip', 'r') as zip_ref:\n",
    "  zip_ref.extractall('./data')"
   ]
  },
  {
   "cell_type": "code",
   "execution_count": null,
   "id": "731070c8-c7b8-467a-ba86-f3b9447ce625",
   "metadata": {
    "tags": []
   },
   "outputs": [],
   "source": [
    "import glob\n",
    "import random\n",
    "import matplotlib.pyplot as plt\n",
    "\n",
    "def get_random_image(dir,condition):\n",
    "  placeholder=''\n",
    "  if condition=='n':\n",
    "    placeholder='NORMAL'\n",
    "  elif condition=='p':\n",
    "    placeholder='PNEUMONIA'\n",
    "  else:\n",
    "    raise Exception(\"Sorry! Invalid condition\")\n",
    "\n",
    "  folder=f\"./data/chest_xray/{dir}/{placeholder}/*.jpeg\"\n",
    "  img_paths=glob.glob(folder)\n",
    "  max_length=len(img_paths)\n",
    "  randomNumber=random.randint(0,max_length)\n",
    "\n",
    "  for index,item in enumerate(img_paths, start=1):\n",
    "    if index==randomNumber:\n",
    "      print(index,item)\n",
    "      image=plt.imread(item)\n",
    "      readyImage=plt.imshow(image)\n",
    "      return readyImage"
   ]
  },
  {
   "cell_type": "code",
   "execution_count": null,
   "id": "d8f06b8b-5e39-44e4-94c7-5293ea212fba",
   "metadata": {
    "tags": []
   },
   "outputs": [],
   "source": [
    "get_random_image(\"train\",\"p\")"
   ]
  },
  {
   "cell_type": "code",
   "execution_count": null,
   "id": "efe404ee-54a6-45d1-b619-050faff08d5a",
   "metadata": {
    "tags": []
   },
   "outputs": [],
   "source": [
    "from PIL import Image\n",
    "\n",
    "image = Image.open('data/chest_xray/val/NORMAL/NORMAL2-IM-1436-0001.jpeg')\n",
    "print(image.format)\n",
    "print(image.size)\n",
    "print(image.mode)"
   ]
  },
  {
   "cell_type": "code",
   "execution_count": null,
   "id": "9357b5fa-1ab9-4faa-a247-977a0e6d6acc",
   "metadata": {
    "tags": []
   },
   "outputs": [],
   "source": [
    "import PIL.Image\n",
    "\n",
    "# open the RGBA image\n",
    "rgba_image=PIL.Image.open('data/chest_xray/val/NORMAL/NORMAL2-IM-1436-0001.jpeg')\n",
    "rgb_image=rgba_image.convert('RGB')\n",
    "print(rgb_image.mode)"
   ]
  },
  {
   "cell_type": "code",
   "execution_count": null,
   "id": "1fbbda84-692a-451f-b1a8-e1e6b0a466a6",
   "metadata": {
    "tags": []
   },
   "outputs": [],
   "source": [
    "import matplotlib.pyplot as plt\n",
    "import matplotlib.image as mpimg\n",
    "img = mpimg.imread('data/chest_xray/val/NORMAL/NORMAL2-IM-1436-0001.jpeg')\n",
    "imgplot = plt.imshow(img)\n",
    "plt.show()"
   ]
  },
  {
   "cell_type": "code",
   "execution_count": null,
   "id": "1f09d039-2ad3-4a12-87fe-d88e56633887",
   "metadata": {
    "tags": []
   },
   "outputs": [],
   "source": [
    "import glob\n",
    "import matplotlib.pyplot as plt\n",
    "from PIL import Image\n",
    "\n",
    "folder=f'./data/chest_xray/train/*/*.jpeg'\n",
    "\n",
    "counterPneu=0\n",
    "counterNormal=0\n",
    "\n",
    "img_paths=glob.glob(folder)\n",
    "\n",
    "for i in img_paths:\n",
    "    if \"person\" in i:\n",
    "        full_size_image=Image.open(i)\n",
    "        im=full_size_image.resize((224,224))\n",
    "        plt.imsave(fname='./data/chest_xray/train' + '/train_pneumonia' + str(counterPneu)+'.jpeg',arr=im,format='jpeg',cmap='gray')\n",
    "        counterPneu+=1\n",
    "    else:\n",
    "        full_size_image=Image.open(i)\n",
    "        im=full_size_image.resize((224,224))\n",
    "        plt.imsave(fname='./data/chest_xray/train' + '/train_normal' + str(counterNormal)+'.jpeg',arr=im,format='jpeg',cmap='gray')\n",
    "        counterNormal+=1"
   ]
  },
  {
   "cell_type": "code",
   "execution_count": null,
   "id": "e5e4dd2d-e451-4c91-bda5-cc9c78db2fcf",
   "metadata": {
    "tags": []
   },
   "outputs": [],
   "source": [
    "import glob\n",
    "import matplotlib.pyplot as plt\n",
    "from PIL import Image\n",
    "\n",
    "folder=f'./data/chest_xray/test/*/*.jpeg'\n",
    "\n",
    "counterPneu=0\n",
    "counterNormal=0\n",
    "\n",
    "img_paths=glob.glob(folder)\n",
    "\n",
    "for i in img_paths:\n",
    "    if \"person\" in i:\n",
    "        full_size_image=Image.open(i)\n",
    "        im=full_size_image.resize((224,224))\n",
    "        plt.imsave(fname='./data/chest_xray/test' + '/test_pneumonia' + str(counterPneu)+'.jpeg',arr=im,format='jpeg',cmap='gray')\n",
    "        counterPneu+=1\n",
    "    else:\n",
    "        full_size_image=Image.open(i)\n",
    "        im=full_size_image.resize((224,224))\n",
    "        plt.imsave(fname='./data/chest_xray/test' + '/test_normal' + str(counterNormal)+'.jpeg',arr=im,format='jpeg',cmap='gray')\n",
    "        counterNormal+=1"
   ]
  },
  {
   "cell_type": "code",
   "execution_count": null,
   "id": "f4650468-80b0-4237-a281-a77b17db4d13",
   "metadata": {
    "tags": []
   },
   "outputs": [],
   "source": [
    "import glob\n",
    "import matplotlib.pyplot as plt\n",
    "from PIL import Image\n",
    "\n",
    "folder=f'./data/chest_xray/val/*/*.jpeg'\n",
    "\n",
    "counterPneu=0\n",
    "counterNormal=0\n",
    "\n",
    "img_paths=glob.glob(folder)\n",
    "\n",
    "for i in img_paths:\n",
    "    if \"person\" in i:\n",
    "        full_size_image=Image.open(i)\n",
    "        im=full_size_image.resize((224,224))\n",
    "        plt.imsave(fname='./data/chest_xray/val' + '/val_pneumonia' + str(counterPneu)+'.jpeg',arr=im,format='jpeg',cmap='gray')\n",
    "        counterPneu+=1\n",
    "    else:\n",
    "        full_size_image=Image.open(i)\n",
    "        im=full_size_image.resize((224,224))\n",
    "        plt.imsave(fname='./data/chest_xray/val' + '/val_normal' + str(counterNormal)+'.jpeg',arr=im,format='jpeg',cmap='gray')\n",
    "        counterNormal+=1"
   ]
  },
  {
   "cell_type": "code",
   "execution_count": null,
   "id": "6654df02-b7b5-466d-9d94-461d57cefe35",
   "metadata": {
    "tags": []
   },
   "outputs": [],
   "source": [
    "import glob\n",
    "import pandas as pd\n",
    "\n",
    "folder=f'./data/chest_xray/*/*.jpeg'\n",
    "\n",
    "category=[]\n",
    "filenames=[]\n",
    "condition_of_lung=[]\n",
    "\n",
    "all_files=glob.glob(folder)\n",
    "\n",
    "for filename in all_files:\n",
    "    if \"train\" in filename:\n",
    "        if \"pneumonia\" in filename:\n",
    "            category.append(\"train\")\n",
    "            filenames.append(filename)\n",
    "            condition_of_lung.append(\"pneumonia\")\n",
    "        elif \"normal\" in filename:\n",
    "            category.append(\"train\")\n",
    "            filenames.append(filename)\n",
    "            condition_of_lung.append(\"normal\")\n",
    "    elif \"test\" in filename:\n",
    "        if \"pneumonia\" in filename:\n",
    "            category.append(\"test\")\n",
    "            filenames.append(filename)\n",
    "            condition_of_lung.append(\"pneumonia\")\n",
    "        elif \"normal\" in filename:\n",
    "            category.append(\"test\")\n",
    "            filenames.append(filename)\n",
    "            condition_of_lung.append(\"normal\")\n",
    "    elif \"val\" in filename:\n",
    "        if \"pneumonia\" in filename:\n",
    "            category.append(\"val\")\n",
    "            filenames.append(filename)\n",
    "            condition_of_lung.append(\"pneumonia\")\n",
    "        elif \"normal\" in filename:\n",
    "            category.append(\"val\")\n",
    "            filenames.append(filename)\n",
    "            condition_of_lung.append(\"normal\")\n",
    "\n",
    "all_data_df=pd.DataFrame({\"dataset type\":category,\"x-ray result\":condition_of_lung,\"filename\":filenames})\n",
    "\n",
    "print(all_data_df.head())"
   ]
  },
  {
   "cell_type": "code",
   "execution_count": null,
   "id": "b4469a42-a50b-4e29-9a8f-99ad77a413ee",
   "metadata": {
    "tags": []
   },
   "outputs": [],
   "source": [
    "import seaborn as sns\n",
    "\n",
    "g=sns.catplot(x=\"x-ray result\",col=\"dataset type\",kind=\"count\",palette=\"ch:.55\",data=all_data_df,legend=True)\n",
    "\n",
    "for i in range(0,3):\n",
    "    ax=g.facet_axis(0,i)\n",
    "    for p in ax.patches:\n",
    "        ax.text(p.get_x()+0.3,\n",
    "        p.get_height()*1.05,\n",
    "        '{0:.0f}'.format(p.get_height()),\n",
    "        color='black',\n",
    "        rotation='horizontal',\n",
    "        size='large')"
   ]
  },
  {
   "cell_type": "code",
   "execution_count": null,
   "id": "3d798c66-9db2-4773-b792-e46c56d8b3b2",
   "metadata": {
    "tags": []
   },
   "outputs": [],
   "source": [
    "import glob\n",
    "import pandas as pd\n",
    "import os\n",
    "train_folder='./data/chest_xray/train/*.jpeg'\n",
    "train_df_lst=pd.DataFrame(columns=['labels','s3_path'],dtype=object)\n",
    "train_imgs_path=glob.glob(train_folder)\n",
    "counter=0\n",
    "class_arg=''\n",
    "\n",
    "for i in train_imgs_path:\n",
    "    if \"pneumonia\" in i:\n",
    "        class_arg=1\n",
    "    else:\n",
    "        class_arg=0\n",
    "    train_df_lst.loc[counter]=[class_arg,os.path.basename(i)]\n",
    "    counter+=1\n",
    "print(train_df_lst.head())"
   ]
  },
  {
   "cell_type": "code",
   "execution_count": null,
   "id": "45403d9a-4f8c-445a-8db5-d26675d5c8b5",
   "metadata": {
    "tags": []
   },
   "outputs": [],
   "source": [
    "import glob\n",
    "import pandas as pd\n",
    "import os\n",
    "test_folder='./data/chest_xray/test/*.jpeg'\n",
    "test_df_lst=pd.DataFrame(columns=['labels','s3_path'],dtype=object)\n",
    "test_imgs_path=glob.glob(test_folder)\n",
    "counter=0\n",
    "class_arg=''\n",
    "\n",
    "for i in test_imgs_path:\n",
    "    if \"pneumonia\" in i:\n",
    "        class_arg=1\n",
    "    else:\n",
    "        class_arg=0\n",
    "    test_df_lst.loc[counter]=[class_arg,os.path.basename(i)]\n",
    "    counter+=1\n",
    "print(test_df_lst.head())"
   ]
  },
  {
   "cell_type": "code",
   "execution_count": null,
   "id": "8bcdaccd-90e5-44f3-9e4f-aecce2cf2591",
   "metadata": {
    "tags": []
   },
   "outputs": [],
   "source": [
    "def save_to_lst(df,prefix):\n",
    "    return df[[\"labels\",\"s3_path\"]].to_csv(\n",
    "    f\"{prefix}.lst\", sep='\\t',index=True,header=False\n",
    "    )\n",
    "\n",
    "save_to_lst(train_df_lst.copy(),\"train\")\n",
    "save_to_lst(test_df_lst.copy(),\"test\")"
   ]
  },
  {
   "cell_type": "code",
   "execution_count": null,
   "id": "b732640c-fb5a-435e-b6e5-531fff0a05dc",
   "metadata": {
    "tags": []
   },
   "outputs": [],
   "source": [
    "bucket=''\n",
    "print(\"bucket:{}\".format(bucket))\n",
    "region=''\n",
    "print(\"region:{}\".format(region))\n",
    "roleArn=''\n",
    "print(\"roleArn:{}\".format(roleArn))"
   ]
  },
  {
   "cell_type": "code",
   "execution_count": null,
   "id": "fd588608-e0f6-428b-918d-d2a696ae2081",
   "metadata": {
    "tags": []
   },
   "outputs": [],
   "source": [
    "import os\n",
    "\n",
    "os.environ[\"DEFAULT_S3_BUCKET\"]=bucket"
   ]
  },
  {
   "cell_type": "code",
   "execution_count": null,
   "id": "6e03f281-f25c-41a5-8ef9-6bd5e5a9edf2",
   "metadata": {
    "tags": []
   },
   "outputs": [],
   "source": [
    "!aws s3 sync ./data/chest_xray/train s3://${DEFAULT_S3_BUCKET}/train/"
   ]
  },
  {
   "cell_type": "code",
   "execution_count": null,
   "id": "f4511568-3570-4c74-8ee9-60316fabe298",
   "metadata": {
    "tags": []
   },
   "outputs": [],
   "source": [
    "!aws s3 sync ./data/chest_xray/test s3://${DEFAULT_S3_BUCKET}/test/"
   ]
  },
  {
   "cell_type": "code",
   "execution_count": null,
   "id": "5def34da-aa64-4824-a63a-8f01e31283c7",
   "metadata": {
    "tags": []
   },
   "outputs": [],
   "source": [
    "import boto3\n",
    "\n",
    "boto3.Session().resource('s3').Bucket(bucket).Object(\"train.lst\").upload_file('./train.lst')"
   ]
  },
  {
   "cell_type": "code",
   "execution_count": null,
   "id": "43109d1d-fc73-47a7-9369-742168df4ca6",
   "metadata": {
    "tags": []
   },
   "outputs": [],
   "source": [
    "boto3.Session().resource('s3').Bucket(bucket).Object(\"test.lst\").upload_file('./test.lst')"
   ]
  },
  {
   "cell_type": "code",
   "execution_count": null,
   "id": "f30bfcd4-46d3-4293-8b6f-647c58591159",
   "metadata": {
    "tags": []
   },
   "outputs": [],
   "source": [
    "import sagemaker\n",
    "from sagemaker import image_uris\n",
    "import boto3\n",
    "from sagemaker import get_execution_role\n",
    "sess=sagemaker.Session()\n",
    "\n",
    "algorithm_image=image_uris.retrieve(\n",
    "    region=boto3.Session().region_name,\n",
    "    framework=\"image-classification\"\n",
    ")\n",
    "\n",
    "s3_output_location=f\"s3://{bucket}/models/image_model\"\n",
    "print(algorithm_image)"
   ]
  },
  {
   "cell_type": "code",
   "execution_count": null,
   "id": "1936f18a-80c1-4e54-9b2b-698ef00e0aa1",
   "metadata": {
    "tags": []
   },
   "outputs": [],
   "source": [
    "role=get_execution_role()\n",
    "print(role)"
   ]
  },
  {
   "cell_type": "code",
   "execution_count": null,
   "id": "1beb07c9-d83c-4a3e-aeee-31fe3e1168ed",
   "metadata": {
    "tags": []
   },
   "outputs": [],
   "source": [
    "img_classifier_model=sagemaker.estimator.Estimator(\n",
    "    algorithm_image,\n",
    "    role=role,\n",
    "    instance_count=1,\n",
    "    instance_type=\"ml.p2.xlarge\",\n",
    "    volume_size=50,\n",
    "    max_run=432000,\n",
    "    input_mode=\"File\",\n",
    "    output_path=s3_output_location,\n",
    "    sagemaker_session=sess\n",
    ")\n",
    "print(img_classifier_model)"
   ]
  },
  {
   "cell_type": "code",
   "execution_count": null,
   "id": "3a6f5335-3069-4b40-a486-e5a4f5a5fa9f",
   "metadata": {
    "tags": []
   },
   "outputs": [],
   "source": [
    "import glob\n",
    "count=0\n",
    "\n",
    "for filepath in glob.glob('./data/chest_xray/train/*.jpeg'):\n",
    "    count+=1\n",
    "print(count)"
   ]
  },
  {
   "cell_type": "code",
   "execution_count": 7,
   "id": "2d5dc0b5-a56a-4ff4-b98b-b1ae342722f7",
   "metadata": {
    "tags": []
   },
   "outputs": [],
   "source": [
    "img_classifier_model.set_hyperparameters(\n",
    "image_shape='3,224,224',\n",
    "num_classes=2,\n",
    "use_pretrained_model=1,\n",
    "num_training_samples=5216, # replace with count\n",
    "augmentation_type='crop_color_transform',\n",
    "epochs=15,\n",
    "early_stopping=True,\n",
    "early_stopping_min_epochs=8,\n",
    "early_stopping_tolerance=0.0,\n",
    "early_stopping_patience=5,\n",
    "lr_scheduler_factor=0.1,\n",
    "lr_scheduler_step='8,10,12')"
   ]
  },
  {
   "cell_type": "code",
   "execution_count": 8,
   "id": "c944e808-f747-4d70-a2fb-3275f877a26d",
   "metadata": {
    "tags": []
   },
   "outputs": [],
   "source": [
    "from sagemaker.tuner import CategoricalParameter,ContinuousParameter,HyperparameterTuner\n",
    "\n",
    "hyperparameter_ranges={\n",
    "    \"learning_rate\":ContinuousParameter(0.01,0.1),\n",
    "    \"mini_batch_size\":CategoricalParameter([8,16,32]),\n",
    "    \"optimizer\":CategoricalParameter([\"sgd\",\"adam\"])\n",
    "}"
   ]
  },
  {
   "cell_type": "code",
   "execution_count": 9,
   "id": "36dc5305-38da-472d-9ed3-3bb9856954a6",
   "metadata": {
    "tags": []
   },
   "outputs": [],
   "source": [
    "objective_metric_name=\"validation:accuracy\"\n",
    "objective_type=\"Maximize\"\n",
    "max_jobs=5\n",
    "max_parallel_jobs=1"
   ]
  },
  {
   "cell_type": "code",
   "execution_count": 10,
   "id": "d45386f8-0d99-4b2f-9b96-4a92052b576f",
   "metadata": {
    "tags": []
   },
   "outputs": [],
   "source": [
    "tuner=HyperparameterTuner(estimator=img_classifier_model,\n",
    "                         objective_metric_name=objective_metric_name,\n",
    "                         hyperparameter_ranges=hyperparameter_ranges,\n",
    "                         objective_type=objective_type,\n",
    "                         max_jobs=max_jobs,\n",
    "                         max_parallel_jobs=max_parallel_jobs\n",
    "                         )"
   ]
  },
  {
   "cell_type": "code",
   "execution_count": 11,
   "id": "932e5f70-816f-438e-9114-2255d9ca7a3d",
   "metadata": {
    "tags": []
   },
   "outputs": [],
   "source": [
    "from sagemaker.session import TrainingInput\n",
    "\n",
    "model_inputs={\n",
    "    \"train\":sagemaker.inputs.TrainingInput(s3_data=f\"s3://{bucket}/train/\",content_type=\"application/x-image\"),\n",
    "    \"validation\":sagemaker.inputs.TrainingInput(s3_data=f\"s3://{bucket}/test/\",content_type=\"application/x-image\"),\n",
    "    \"train_lst\":sagemaker.inputs.TrainingInput(s3_data=f\"s3://{bucket}/train.lst\",content_type=\"application/x-image\"),\n",
    "    \"validation_lst\":sagemaker.inputs.TrainingInput(s3_data=f\"s3://{bucket}/test.lst\",content_type=\"application/x-image\"),\n",
    "}"
   ]
  },
  {
   "cell_type": "code",
   "execution_count": 12,
   "id": "0e39317d-2d16-462c-8e80-705db29999f9",
   "metadata": {
    "tags": []
   },
   "outputs": [],
   "source": [
    "import time\n",
    "job_name_prefix=\"classifier\"\n",
    "timestamp=time.strftime(\"-%Y-%m-%d-%H-%M-%S\",time.gmtime())\n",
    "job_name=job_name_prefix+timestamp"
   ]
  },
  {
   "cell_type": "code",
   "execution_count": null,
   "id": "4a374781-2814-422e-8c52-5fb8cf794a2d",
   "metadata": {
    "tags": []
   },
   "outputs": [],
   "source": [
    "tuner.fit(inputs=model_inputs,job_name=job_name,logs=True)"
   ]
  },
  {
   "cell_type": "code",
   "execution_count": 27,
   "id": "2d308765-8e0e-41b0-837c-b2fb1b8937ec",
   "metadata": {},
   "outputs": [],
   "source": [
    "import sagemaker\n",
    "from sagemaker import get_execution_role"
   ]
  },
  {
   "cell_type": "code",
   "execution_count": null,
   "id": "4aac6952-c5a9-4421-8213-ca6421be161a",
   "metadata": {},
   "outputs": [],
   "source": [
    "role=get_execution_role()"
   ]
  },
  {
   "cell_type": "code",
   "execution_count": null,
   "id": "64efbf1c-7d67-4e92-8061-83b6902b2105",
   "metadata": {},
   "outputs": [],
   "source": [
    "model=sagemaker.model.Model(\n",
    "image_uri=algorithm_image,\n",
    "model_data='',\n",
    "role=role)"
   ]
  },
  {
   "cell_type": "code",
   "execution_count": 33,
   "id": "9a46fdd0-741d-422c-ba12-259a3300e60c",
   "metadata": {},
   "outputs": [
    {
     "name": "stdout",
     "output_type": "stream",
     "text": [
      "--------------!"
     ]
    }
   ],
   "source": [
    "endpoint_name=''\n",
    "\n",
    "deployment=model.deploy(\n",
    "initial_instance_count=1,\n",
    "instance_type='ml.m4.xlarge',\n",
    "endpoint_name=endpoint_name)"
   ]
  },
  {
   "cell_type": "code",
   "execution_count": null,
   "id": "99ab5f65-5283-4140-bca5-2787ddce9ed1",
   "metadata": {},
   "outputs": [],
   "source": [
    "from sagemaker.predictor import Predictor\n",
    "predictor=Predictor(\"\")"
   ]
  },
  {
   "cell_type": "code",
   "execution_count": 21,
   "id": "3fca2078-cb97-4019-953e-cf8d33b10b4d",
   "metadata": {},
   "outputs": [
    {
     "name": "stdout",
     "output_type": "stream",
     "text": [
      "b'[0.013202410191297531, 0.9867975115776062]'\n"
     ]
    }
   ],
   "source": [
    "from sagemaker.serializers import IdentitySerializer\n",
    "import base64\n",
    "\n",
    "file_name='data/chest_xray/val/val_pneumonia0.jpeg'\n",
    "\n",
    "predictor.serializer= IdentitySerializer(\"image/jpeg\")\n",
    "with open(file_name,\"rb\")as f:\n",
    "    payload=f.read()\n",
    "\n",
    "inference=predictor.predict(data=payload)\n",
    "print(inference)"
   ]
  },
  {
   "cell_type": "code",
   "execution_count": 22,
   "id": "fab73b54-9e3f-4c38-97a8-375df2baa717",
   "metadata": {},
   "outputs": [
    {
     "name": "stdout",
     "output_type": "stream",
     "text": [
      "48\n"
     ]
    }
   ],
   "source": [
    "print(inference[1])"
   ]
  },
  {
   "cell_type": "code",
   "execution_count": 23,
   "id": "3e207dd2-3157-4b93-b709-aea425d7de9d",
   "metadata": {},
   "outputs": [
    {
     "name": "stdout",
     "output_type": "stream",
     "text": [
      "[0, 1, 0, 1, 0, 1, 0, 1, 0, 1, 1, 0, 1, 0, 1, 0]\n",
      "[1, 1, 1, 0, 0, 1, 1, 1, 0, 1, 1, 0, 1, 0, 1, 0]\n"
     ]
    }
   ],
   "source": [
    "import glob\n",
    "import json\n",
    "import numpy as np\n",
    "file_path='data/chest_xray/val/*.jpeg'\n",
    "files=glob.glob(file_path)\n",
    "\n",
    "y_true=[]\n",
    "y_pred=[]\n",
    "\n",
    "def make_pred():\n",
    "    for file in files:\n",
    "        if \"normal\" in file:\n",
    "            with open(file,\"rb\") as f:\n",
    "                payload=f.read()\n",
    "                inference=predictor.predict(data=payload).decode(\"utf-8\")\n",
    "                result=json.loads(inference)\n",
    "                predicted_class=np.argmax(result)\n",
    "                y_true.append(0)\n",
    "                y_pred.append(predicted_class)\n",
    "        elif \"pneumonia\" in file:\n",
    "            with open(file,\"rb\") as f:\n",
    "                payload=f.read()\n",
    "                inference=predictor.predict(data=payload).decode(\"utf-8\")\n",
    "                result=json.loads(inference)\n",
    "                predicted_class=np.argmax(result)\n",
    "                y_true.append(1)\n",
    "                y_pred.append(predicted_class)\n",
    "\n",
    "make_pred()\n",
    "print(y_true)\n",
    "print(y_pred)"
   ]
  },
  {
   "cell_type": "code",
   "execution_count": 24,
   "id": "6aaed495-6608-4d0d-9523-7fc20bd4b587",
   "metadata": {},
   "outputs": [
    {
     "data": {
      "text/plain": [
       "array([[5, 3],\n",
       "       [1, 7]])"
      ]
     },
     "execution_count": 24,
     "metadata": {},
     "output_type": "execute_result"
    }
   ],
   "source": [
    "from sklearn.metrics import confusion_matrix\n",
    "\n",
    "confusion_matrix(y_true,y_pred)"
   ]
  },
  {
   "cell_type": "code",
   "execution_count": 25,
   "id": "8433a0ca-97a5-4fb7-9d57-53239be490f8",
   "metadata": {},
   "outputs": [
    {
     "name": "stdout",
     "output_type": "stream",
     "text": [
      "              precision    recall  f1-score   support\n",
      "\n",
      "           0       0.83      0.62      0.71         8\n",
      "           1       0.70      0.88      0.78         8\n",
      "\n",
      "    accuracy                           0.75        16\n",
      "   macro avg       0.77      0.75      0.75        16\n",
      "weighted avg       0.77      0.75      0.75        16\n",
      "\n"
     ]
    }
   ],
   "source": [
    "from sklearn.metrics import classification_report\n",
    "print(classification_report(y_true,y_pred))"
   ]
  },
  {
   "cell_type": "code",
   "execution_count": null,
   "id": "8129c3e0-2297-4c73-a68e-ddb897f91a5b",
   "metadata": {},
   "outputs": [],
   "source": []
  }
 ],
 "metadata": {
  "availableInstances": [
   {
    "_defaultOrder": 0,
    "_isFastLaunch": true,
    "category": "General purpose",
    "gpuNum": 0,
    "hideHardwareSpecs": false,
    "memoryGiB": 4,
    "name": "ml.t3.medium",
    "vcpuNum": 2
   },
   {
    "_defaultOrder": 1,
    "_isFastLaunch": false,
    "category": "General purpose",
    "gpuNum": 0,
    "hideHardwareSpecs": false,
    "memoryGiB": 8,
    "name": "ml.t3.large",
    "vcpuNum": 2
   },
   {
    "_defaultOrder": 2,
    "_isFastLaunch": false,
    "category": "General purpose",
    "gpuNum": 0,
    "hideHardwareSpecs": false,
    "memoryGiB": 16,
    "name": "ml.t3.xlarge",
    "vcpuNum": 4
   },
   {
    "_defaultOrder": 3,
    "_isFastLaunch": false,
    "category": "General purpose",
    "gpuNum": 0,
    "hideHardwareSpecs": false,
    "memoryGiB": 32,
    "name": "ml.t3.2xlarge",
    "vcpuNum": 8
   },
   {
    "_defaultOrder": 4,
    "_isFastLaunch": true,
    "category": "General purpose",
    "gpuNum": 0,
    "hideHardwareSpecs": false,
    "memoryGiB": 8,
    "name": "ml.m5.large",
    "vcpuNum": 2
   },
   {
    "_defaultOrder": 5,
    "_isFastLaunch": false,
    "category": "General purpose",
    "gpuNum": 0,
    "hideHardwareSpecs": false,
    "memoryGiB": 16,
    "name": "ml.m5.xlarge",
    "vcpuNum": 4
   },
   {
    "_defaultOrder": 6,
    "_isFastLaunch": false,
    "category": "General purpose",
    "gpuNum": 0,
    "hideHardwareSpecs": false,
    "memoryGiB": 32,
    "name": "ml.m5.2xlarge",
    "vcpuNum": 8
   },
   {
    "_defaultOrder": 7,
    "_isFastLaunch": false,
    "category": "General purpose",
    "gpuNum": 0,
    "hideHardwareSpecs": false,
    "memoryGiB": 64,
    "name": "ml.m5.4xlarge",
    "vcpuNum": 16
   },
   {
    "_defaultOrder": 8,
    "_isFastLaunch": false,
    "category": "General purpose",
    "gpuNum": 0,
    "hideHardwareSpecs": false,
    "memoryGiB": 128,
    "name": "ml.m5.8xlarge",
    "vcpuNum": 32
   },
   {
    "_defaultOrder": 9,
    "_isFastLaunch": false,
    "category": "General purpose",
    "gpuNum": 0,
    "hideHardwareSpecs": false,
    "memoryGiB": 192,
    "name": "ml.m5.12xlarge",
    "vcpuNum": 48
   },
   {
    "_defaultOrder": 10,
    "_isFastLaunch": false,
    "category": "General purpose",
    "gpuNum": 0,
    "hideHardwareSpecs": false,
    "memoryGiB": 256,
    "name": "ml.m5.16xlarge",
    "vcpuNum": 64
   },
   {
    "_defaultOrder": 11,
    "_isFastLaunch": false,
    "category": "General purpose",
    "gpuNum": 0,
    "hideHardwareSpecs": false,
    "memoryGiB": 384,
    "name": "ml.m5.24xlarge",
    "vcpuNum": 96
   },
   {
    "_defaultOrder": 12,
    "_isFastLaunch": false,
    "category": "General purpose",
    "gpuNum": 0,
    "hideHardwareSpecs": false,
    "memoryGiB": 8,
    "name": "ml.m5d.large",
    "vcpuNum": 2
   },
   {
    "_defaultOrder": 13,
    "_isFastLaunch": false,
    "category": "General purpose",
    "gpuNum": 0,
    "hideHardwareSpecs": false,
    "memoryGiB": 16,
    "name": "ml.m5d.xlarge",
    "vcpuNum": 4
   },
   {
    "_defaultOrder": 14,
    "_isFastLaunch": false,
    "category": "General purpose",
    "gpuNum": 0,
    "hideHardwareSpecs": false,
    "memoryGiB": 32,
    "name": "ml.m5d.2xlarge",
    "vcpuNum": 8
   },
   {
    "_defaultOrder": 15,
    "_isFastLaunch": false,
    "category": "General purpose",
    "gpuNum": 0,
    "hideHardwareSpecs": false,
    "memoryGiB": 64,
    "name": "ml.m5d.4xlarge",
    "vcpuNum": 16
   },
   {
    "_defaultOrder": 16,
    "_isFastLaunch": false,
    "category": "General purpose",
    "gpuNum": 0,
    "hideHardwareSpecs": false,
    "memoryGiB": 128,
    "name": "ml.m5d.8xlarge",
    "vcpuNum": 32
   },
   {
    "_defaultOrder": 17,
    "_isFastLaunch": false,
    "category": "General purpose",
    "gpuNum": 0,
    "hideHardwareSpecs": false,
    "memoryGiB": 192,
    "name": "ml.m5d.12xlarge",
    "vcpuNum": 48
   },
   {
    "_defaultOrder": 18,
    "_isFastLaunch": false,
    "category": "General purpose",
    "gpuNum": 0,
    "hideHardwareSpecs": false,
    "memoryGiB": 256,
    "name": "ml.m5d.16xlarge",
    "vcpuNum": 64
   },
   {
    "_defaultOrder": 19,
    "_isFastLaunch": false,
    "category": "General purpose",
    "gpuNum": 0,
    "hideHardwareSpecs": false,
    "memoryGiB": 384,
    "name": "ml.m5d.24xlarge",
    "vcpuNum": 96
   },
   {
    "_defaultOrder": 20,
    "_isFastLaunch": false,
    "category": "General purpose",
    "gpuNum": 0,
    "hideHardwareSpecs": true,
    "memoryGiB": 0,
    "name": "ml.geospatial.interactive",
    "supportedImageNames": [
     "sagemaker-geospatial-v1-0"
    ],
    "vcpuNum": 0
   },
   {
    "_defaultOrder": 21,
    "_isFastLaunch": true,
    "category": "Compute optimized",
    "gpuNum": 0,
    "hideHardwareSpecs": false,
    "memoryGiB": 4,
    "name": "ml.c5.large",
    "vcpuNum": 2
   },
   {
    "_defaultOrder": 22,
    "_isFastLaunch": false,
    "category": "Compute optimized",
    "gpuNum": 0,
    "hideHardwareSpecs": false,
    "memoryGiB": 8,
    "name": "ml.c5.xlarge",
    "vcpuNum": 4
   },
   {
    "_defaultOrder": 23,
    "_isFastLaunch": false,
    "category": "Compute optimized",
    "gpuNum": 0,
    "hideHardwareSpecs": false,
    "memoryGiB": 16,
    "name": "ml.c5.2xlarge",
    "vcpuNum": 8
   },
   {
    "_defaultOrder": 24,
    "_isFastLaunch": false,
    "category": "Compute optimized",
    "gpuNum": 0,
    "hideHardwareSpecs": false,
    "memoryGiB": 32,
    "name": "ml.c5.4xlarge",
    "vcpuNum": 16
   },
   {
    "_defaultOrder": 25,
    "_isFastLaunch": false,
    "category": "Compute optimized",
    "gpuNum": 0,
    "hideHardwareSpecs": false,
    "memoryGiB": 72,
    "name": "ml.c5.9xlarge",
    "vcpuNum": 36
   },
   {
    "_defaultOrder": 26,
    "_isFastLaunch": false,
    "category": "Compute optimized",
    "gpuNum": 0,
    "hideHardwareSpecs": false,
    "memoryGiB": 96,
    "name": "ml.c5.12xlarge",
    "vcpuNum": 48
   },
   {
    "_defaultOrder": 27,
    "_isFastLaunch": false,
    "category": "Compute optimized",
    "gpuNum": 0,
    "hideHardwareSpecs": false,
    "memoryGiB": 144,
    "name": "ml.c5.18xlarge",
    "vcpuNum": 72
   },
   {
    "_defaultOrder": 28,
    "_isFastLaunch": false,
    "category": "Compute optimized",
    "gpuNum": 0,
    "hideHardwareSpecs": false,
    "memoryGiB": 192,
    "name": "ml.c5.24xlarge",
    "vcpuNum": 96
   },
   {
    "_defaultOrder": 29,
    "_isFastLaunch": true,
    "category": "Accelerated computing",
    "gpuNum": 1,
    "hideHardwareSpecs": false,
    "memoryGiB": 16,
    "name": "ml.g4dn.xlarge",
    "vcpuNum": 4
   },
   {
    "_defaultOrder": 30,
    "_isFastLaunch": false,
    "category": "Accelerated computing",
    "gpuNum": 1,
    "hideHardwareSpecs": false,
    "memoryGiB": 32,
    "name": "ml.g4dn.2xlarge",
    "vcpuNum": 8
   },
   {
    "_defaultOrder": 31,
    "_isFastLaunch": false,
    "category": "Accelerated computing",
    "gpuNum": 1,
    "hideHardwareSpecs": false,
    "memoryGiB": 64,
    "name": "ml.g4dn.4xlarge",
    "vcpuNum": 16
   },
   {
    "_defaultOrder": 32,
    "_isFastLaunch": false,
    "category": "Accelerated computing",
    "gpuNum": 1,
    "hideHardwareSpecs": false,
    "memoryGiB": 128,
    "name": "ml.g4dn.8xlarge",
    "vcpuNum": 32
   },
   {
    "_defaultOrder": 33,
    "_isFastLaunch": false,
    "category": "Accelerated computing",
    "gpuNum": 4,
    "hideHardwareSpecs": false,
    "memoryGiB": 192,
    "name": "ml.g4dn.12xlarge",
    "vcpuNum": 48
   },
   {
    "_defaultOrder": 34,
    "_isFastLaunch": false,
    "category": "Accelerated computing",
    "gpuNum": 1,
    "hideHardwareSpecs": false,
    "memoryGiB": 256,
    "name": "ml.g4dn.16xlarge",
    "vcpuNum": 64
   },
   {
    "_defaultOrder": 35,
    "_isFastLaunch": false,
    "category": "Accelerated computing",
    "gpuNum": 1,
    "hideHardwareSpecs": false,
    "memoryGiB": 61,
    "name": "ml.p3.2xlarge",
    "vcpuNum": 8
   },
   {
    "_defaultOrder": 36,
    "_isFastLaunch": false,
    "category": "Accelerated computing",
    "gpuNum": 4,
    "hideHardwareSpecs": false,
    "memoryGiB": 244,
    "name": "ml.p3.8xlarge",
    "vcpuNum": 32
   },
   {
    "_defaultOrder": 37,
    "_isFastLaunch": false,
    "category": "Accelerated computing",
    "gpuNum": 8,
    "hideHardwareSpecs": false,
    "memoryGiB": 488,
    "name": "ml.p3.16xlarge",
    "vcpuNum": 64
   },
   {
    "_defaultOrder": 38,
    "_isFastLaunch": false,
    "category": "Accelerated computing",
    "gpuNum": 8,
    "hideHardwareSpecs": false,
    "memoryGiB": 768,
    "name": "ml.p3dn.24xlarge",
    "vcpuNum": 96
   },
   {
    "_defaultOrder": 39,
    "_isFastLaunch": false,
    "category": "Memory Optimized",
    "gpuNum": 0,
    "hideHardwareSpecs": false,
    "memoryGiB": 16,
    "name": "ml.r5.large",
    "vcpuNum": 2
   },
   {
    "_defaultOrder": 40,
    "_isFastLaunch": false,
    "category": "Memory Optimized",
    "gpuNum": 0,
    "hideHardwareSpecs": false,
    "memoryGiB": 32,
    "name": "ml.r5.xlarge",
    "vcpuNum": 4
   },
   {
    "_defaultOrder": 41,
    "_isFastLaunch": false,
    "category": "Memory Optimized",
    "gpuNum": 0,
    "hideHardwareSpecs": false,
    "memoryGiB": 64,
    "name": "ml.r5.2xlarge",
    "vcpuNum": 8
   },
   {
    "_defaultOrder": 42,
    "_isFastLaunch": false,
    "category": "Memory Optimized",
    "gpuNum": 0,
    "hideHardwareSpecs": false,
    "memoryGiB": 128,
    "name": "ml.r5.4xlarge",
    "vcpuNum": 16
   },
   {
    "_defaultOrder": 43,
    "_isFastLaunch": false,
    "category": "Memory Optimized",
    "gpuNum": 0,
    "hideHardwareSpecs": false,
    "memoryGiB": 256,
    "name": "ml.r5.8xlarge",
    "vcpuNum": 32
   },
   {
    "_defaultOrder": 44,
    "_isFastLaunch": false,
    "category": "Memory Optimized",
    "gpuNum": 0,
    "hideHardwareSpecs": false,
    "memoryGiB": 384,
    "name": "ml.r5.12xlarge",
    "vcpuNum": 48
   },
   {
    "_defaultOrder": 45,
    "_isFastLaunch": false,
    "category": "Memory Optimized",
    "gpuNum": 0,
    "hideHardwareSpecs": false,
    "memoryGiB": 512,
    "name": "ml.r5.16xlarge",
    "vcpuNum": 64
   },
   {
    "_defaultOrder": 46,
    "_isFastLaunch": false,
    "category": "Memory Optimized",
    "gpuNum": 0,
    "hideHardwareSpecs": false,
    "memoryGiB": 768,
    "name": "ml.r5.24xlarge",
    "vcpuNum": 96
   },
   {
    "_defaultOrder": 47,
    "_isFastLaunch": false,
    "category": "Accelerated computing",
    "gpuNum": 1,
    "hideHardwareSpecs": false,
    "memoryGiB": 16,
    "name": "ml.g5.xlarge",
    "vcpuNum": 4
   },
   {
    "_defaultOrder": 48,
    "_isFastLaunch": false,
    "category": "Accelerated computing",
    "gpuNum": 1,
    "hideHardwareSpecs": false,
    "memoryGiB": 32,
    "name": "ml.g5.2xlarge",
    "vcpuNum": 8
   },
   {
    "_defaultOrder": 49,
    "_isFastLaunch": false,
    "category": "Accelerated computing",
    "gpuNum": 1,
    "hideHardwareSpecs": false,
    "memoryGiB": 64,
    "name": "ml.g5.4xlarge",
    "vcpuNum": 16
   },
   {
    "_defaultOrder": 50,
    "_isFastLaunch": false,
    "category": "Accelerated computing",
    "gpuNum": 1,
    "hideHardwareSpecs": false,
    "memoryGiB": 128,
    "name": "ml.g5.8xlarge",
    "vcpuNum": 32
   },
   {
    "_defaultOrder": 51,
    "_isFastLaunch": false,
    "category": "Accelerated computing",
    "gpuNum": 1,
    "hideHardwareSpecs": false,
    "memoryGiB": 256,
    "name": "ml.g5.16xlarge",
    "vcpuNum": 64
   },
   {
    "_defaultOrder": 52,
    "_isFastLaunch": false,
    "category": "Accelerated computing",
    "gpuNum": 4,
    "hideHardwareSpecs": false,
    "memoryGiB": 192,
    "name": "ml.g5.12xlarge",
    "vcpuNum": 48
   },
   {
    "_defaultOrder": 53,
    "_isFastLaunch": false,
    "category": "Accelerated computing",
    "gpuNum": 4,
    "hideHardwareSpecs": false,
    "memoryGiB": 384,
    "name": "ml.g5.24xlarge",
    "vcpuNum": 96
   },
   {
    "_defaultOrder": 54,
    "_isFastLaunch": false,
    "category": "Accelerated computing",
    "gpuNum": 8,
    "hideHardwareSpecs": false,
    "memoryGiB": 768,
    "name": "ml.g5.48xlarge",
    "vcpuNum": 192
   },
   {
    "_defaultOrder": 55,
    "_isFastLaunch": false,
    "category": "Accelerated computing",
    "gpuNum": 8,
    "hideHardwareSpecs": false,
    "memoryGiB": 1152,
    "name": "ml.p4d.24xlarge",
    "vcpuNum": 96
   },
   {
    "_defaultOrder": 56,
    "_isFastLaunch": false,
    "category": "Accelerated computing",
    "gpuNum": 8,
    "hideHardwareSpecs": false,
    "memoryGiB": 1152,
    "name": "ml.p4de.24xlarge",
    "vcpuNum": 96
   },
   {
    "_defaultOrder": 57,
    "_isFastLaunch": false,
    "category": "Accelerated computing",
    "gpuNum": 0,
    "hideHardwareSpecs": false,
    "memoryGiB": 32,
    "name": "ml.trn1.2xlarge",
    "vcpuNum": 8
   },
   {
    "_defaultOrder": 58,
    "_isFastLaunch": false,
    "category": "Accelerated computing",
    "gpuNum": 0,
    "hideHardwareSpecs": false,
    "memoryGiB": 512,
    "name": "ml.trn1.32xlarge",
    "vcpuNum": 128
   },
   {
    "_defaultOrder": 59,
    "_isFastLaunch": false,
    "category": "Accelerated computing",
    "gpuNum": 0,
    "hideHardwareSpecs": false,
    "memoryGiB": 512,
    "name": "ml.trn1n.32xlarge",
    "vcpuNum": 128
   }
  ],
  "instance_type": "ml.m5.large",
  "kernelspec": {
   "display_name": "Python 3 (Data Science 3.0)",
   "language": "python",
   "name": "python3__SAGEMAKER_INTERNAL__arn:aws:sagemaker:us-east-1:081325390199:image/sagemaker-data-science-310-v1"
  },
  "language_info": {
   "codemirror_mode": {
    "name": "ipython",
    "version": 3
   },
   "file_extension": ".py",
   "mimetype": "text/x-python",
   "name": "python",
   "nbconvert_exporter": "python",
   "pygments_lexer": "ipython3",
   "version": "3.10.6"
  }
 },
 "nbformat": 4,
 "nbformat_minor": 5
}
